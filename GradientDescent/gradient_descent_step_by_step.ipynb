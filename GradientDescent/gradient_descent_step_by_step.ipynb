{
 "cells": [
  {
   "cell_type": "code",
   "execution_count": 1,
   "id": "c54316e7",
   "metadata": {},
   "outputs": [],
   "source": [
    "from sklearn.datasets import make_regression\n",
    "import numpy as np"
   ]
  },
  {
   "cell_type": "markdown",
   "id": "6acf2566",
   "metadata": {},
   "source": [
    "# Dataset generation"
   ]
  },
  {
   "cell_type": "code",
   "execution_count": 6,
   "id": "db731a17",
   "metadata": {},
   "outputs": [],
   "source": [
    "X,y = make_regression(n_samples = 100,n_features = 1,n_informative = 1, n_targets=1,noise=20)"
   ]
  },
  {
   "cell_type": "code",
   "execution_count": 41,
   "id": "99586deb",
   "metadata": {},
   "outputs": [],
   "source": [
    "from sklearn.model_selection import train_test_split\n",
    "X_train,X_test,y_train,y_test = train_test_split(X,y,test_size=0.2,random_state=42)"
   ]
  },
  {
   "cell_type": "code",
   "execution_count": 42,
   "id": "f4faa0d8",
   "metadata": {},
   "outputs": [
    {
     "data": {
      "text/plain": [
       "(80,)"
      ]
     },
     "execution_count": 42,
     "metadata": {},
     "output_type": "execute_result"
    }
   ],
   "source": [
    "y_train.shape"
   ]
  },
  {
   "cell_type": "code",
   "execution_count": 7,
   "id": "4ed6047b",
   "metadata": {},
   "outputs": [
    {
     "data": {
      "text/plain": [
       "<matplotlib.collections.PathCollection at 0x7fe6f37b8e50>"
      ]
     },
     "execution_count": 7,
     "metadata": {},
     "output_type": "execute_result"
    },
    {
     "data": {
      "image/png": "[encoded data removed]",
      "text/plain": [
       "<Figure size 432x288 with 1 Axes>"
      ]
     },
     "metadata": {
      "needs_background": "light"
     },
     "output_type": "display_data"
    }
   ],
   "source": [
    "import matplotlib.pyplot as plt\n",
    "plt.scatter(X,y)"
   ]
  },
  {
   "cell_type": "markdown",
   "id": "144d09e4",
   "metadata": {},
   "source": [
    "# Linear Regression on the dataset to check its coefficient and intercept"
   ]
  },
  {
   "cell_type": "code",
   "execution_count": 43,
   "id": "69d366f6",
   "metadata": {},
   "outputs": [
    {
     "name": "stdout",
     "output_type": "stream",
     "text": [
      "[58.92454916]\n",
      "-1.0913852124649157\n"
     ]
    }
   ],
   "source": [
    "from sklearn.linear_model import LinearRegression\n",
    "lr = LinearRegression()\n",
    "lr.fit(X_train,y_train)\n",
    "print(lr.coef_)\n",
    "print(lr.intercept_)"
   ]
  },
  {
   "cell_type": "code",
   "execution_count": 44,
   "id": "3f7da93c",
   "metadata": {},
   "outputs": [
    {
     "data": {
      "text/plain": [
       "0.9100665906294932"
      ]
     },
     "execution_count": 44,
     "metadata": {},
     "output_type": "execute_result"
    }
   ],
   "source": [
    "from sklearn.metrics import r2_score\n",
    "y_pred = lr.predict(X_test)\n",
    "r2_score(y_test,y_pred)"
   ]
  },
  {
   "cell_type": "code",
   "execution_count": 45,
   "id": "2a352f4e",
   "metadata": {},
   "outputs": [
    {
     "data": {
      "text/plain": [
       "0.8088953725113319"
      ]
     },
     "execution_count": 45,
     "metadata": {},
     "output_type": "execute_result"
    }
   ],
   "source": [
    "np.mean(cross_val_score(lr,X,y,scoring='r2',cv=10))"
   ]
  },
  {
   "cell_type": "code",
   "execution_count": 9,
   "id": "9bfc06c1",
   "metadata": {},
   "outputs": [
    {
     "data": {
      "text/plain": [
       "[<matplotlib.lines.Line2D at 0x7fe6f2e538b0>]"
      ]
     },
     "execution_count": 9,
     "metadata": {},
     "output_type": "execute_result"
    },
    {
     "data": {
      "image/png": "[encoded data removed]",
      "text/plain": [
       "<Figure size 432x288 with 1 Axes>"
      ]
     },
     "metadata": {
      "needs_background": "light"
     },
     "output_type": "display_data"
    }
   ],
   "source": [
    "plt.scatter(X,y)\n",
    "plt.plot(X,lr.predict(X),color='red')"
   ]
  },
  {
   "cell_type": "code",
   "execution_count": null,
   "id": "45a95539",
   "metadata": {},
   "outputs": [],
   "source": [
    "#slope = -2*np.sum(y-m*X-b)\n",
    "#b = b-lr*slope"
   ]
  },
  {
   "cell_type": "code",
   "execution_count": 10,
   "id": "954c4d42",
   "metadata": {},
   "outputs": [],
   "source": [
    "m = 60.76"
   ]
  },
  {
   "cell_type": "markdown",
   "id": "136f361e",
   "metadata": {},
   "source": [
    "# Code for Gradient descent Regressor"
   ]
  },
  {
   "cell_type": "code",
   "execution_count": 32,
   "id": "bef48aec",
   "metadata": {},
   "outputs": [],
   "source": [
    "desclass GDRegressor:\n",
    "    \n",
    "    def __init__(self,learning_rate,epochs):\n",
    "        self.m = 100\n",
    "        self.b = -120\n",
    "        self.lr = learning_rate\n",
    "        self.epochs = epochs\n",
    "        \n",
    "    def fit(self,X,y):\n",
    "        for i in range(self.epochs):\n",
    "            loss_slope_b = -2 * np.sum(y- self.m*X.ravel() - self.b)\n",
    "            loss_slope_m = -2 * np.sum((y- self.m*X.ravel() - self.b) * X.ravel())\n",
    "            self.b = self.b - (self.lr * loss_slope_b)\n",
    "            self.m = self.m - (self.lr * loss_slope_m)\n",
    "            #print(loss_slope,self.b)\n",
    "        print(self.m, self.b)\n",
    "        \n",
    "    def predict(self,X):\n",
    "        return self.m*X + self.b\n",
    "        "
   ]
  },
  {
   "cell_type": "code",
   "execution_count": 33,
   "id": "5b7e5fe2",
   "metadata": {},
   "outputs": [],
   "source": [
    "gd = GDRegressor(0.001,50)"
   ]
  },
  {
   "cell_type": "code",
   "execution_count": 46,
   "id": "239fb878",
   "metadata": {},
   "outputs": [
    {
     "name": "stdout",
     "output_type": "stream",
     "text": [
      "58.92903169443665 -1.0932693394170965\n"
     ]
    }
   ],
   "source": [
    "gd.fit(X_train,y_train)"
   ]
  },
  {
   "cell_type": "code",
   "execution_count": 31,
   "id": "f21fe4c3",
   "metadata": {},
   "outputs": [],
   "source": [
    "from sklearn.model_selection import cross_val_score"
   ]
  },
  {
   "cell_type": "code",
   "execution_count": 48,
   "id": "9c687112",
   "metadata": {},
   "outputs": [],
   "source": [
    "y_pred_gd= gd.predict(X_test)"
   ]
  },
  {
   "cell_type": "code",
   "execution_count": 49,
   "id": "fbc2ced6",
   "metadata": {},
   "outputs": [
    {
     "data": {
      "text/plain": [
       "0.9100831896455871"
      ]
     },
     "execution_count": 49,
     "metadata": {},
     "output_type": "execute_result"
    }
   ],
   "source": [
    "r2_score(y_test,y_pred_gd)"
   ]
  },
  {
   "cell_type": "code",
   "execution_count": null,
   "id": "a1aea00f",
   "metadata": {},
   "outputs": [],
   "source": []
  }
 ],
 "metadata": {
  "kernelspec": {
   "display_name": "Python 3 (ipykernel)",
   "language": "python",
   "name": "python3"
  },
  "language_info": {
   "codemirror_mode": {
    "name": "ipython",
    "version": 3
   },
   "file_extension": ".py",
   "mimetype": "text/x-python",
   "name": "python",
   "nbconvert_exporter": "python",
   "pygments_lexer": "ipython3",
   "version": "3.9.12"
  }
 },
 "nbformat": 4,
 "nbformat_minor": 5
}
